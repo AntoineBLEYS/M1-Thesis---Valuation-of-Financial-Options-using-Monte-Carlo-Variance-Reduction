{
 "cells": [
  {
   "cell_type": "code",
   "execution_count": null,
   "id": "10d0eb71",
   "metadata": {},
   "outputs": [
    {
     "ename": "NameError",
     "evalue": "name 'ind_vw' is not defined",
     "output_type": "error",
     "traceback": [
      "\u001b[1;31m---------------------------------------------------------------------------\u001b[0m",
      "\u001b[1;31mNameError\u001b[0m                                 Traceback (most recent call last)",
      "Cell \u001b[1;32mIn[1], line 1\u001b[0m\n\u001b[1;32m----> 1\u001b[0m \u001b[43mind_vw\u001b[49m\n",
      "\u001b[1;31mNameError\u001b[0m: name 'ind_vw' is not defined"
     ]
    }
   ],
   "source": [
    "import numpy as np\n",
    "import pandas as pd\n",
    "\n",
    "import edhec_risk_kit_203 as erk\n",
    "\n",
    "%load_ext autoreload\n",
    "%autoreload 2\n",
    "\n",
    "ind_vw = pd.read_csv(f\"data/ind49_m_vw_rets.csv\", header=0, index_col=0)/100\n",
    "ind_vw.index = pd.to_datetime(ind_vw.index, format=\"%Y%m\").to_period('M')\n",
    "ind_vw.columns = ind_vw.columns.str.strip()\n",
    "ind_vw"
   ]
  },
  {
   "cell_type": "code",
   "execution_count": null,
   "id": "d9fd64ec",
   "metadata": {},
   "outputs": [],
   "source": [
    "fff = erk.get_fff_returns()\n",
    "fff.head()"
   ]
  },
  {
   "cell_type": "code",
   "execution_count": null,
   "id": "da7c8719",
   "metadata": {},
   "outputs": [],
   "source": [
    "import statsmodels.api as sm\n",
    "import numpy as np\n",
    "ind_vw_excess_beer = ind_vw.loc[\"2013\":\"2018\", ['Beer']] - fff.loc[\"2013\":\"2018\", ['RF']].values\n",
    "ind_vw_excess_beer"
   ]
  },
  {
   "cell_type": "code",
   "execution_count": null,
   "id": "dce1444c",
   "metadata": {},
   "outputs": [],
   "source": [
    "mkt_excess = fff.loc[\"2013\":\"2018\",['Mkt-RF']]\n",
    "exp_var = mkt_excess.copy()\n",
    "exp_var[\"Constant\"] = 1\n",
    "lm = sm.OLS(ind_vw_excess_beer, exp_var).fit()\n",
    "lm.summary()"
   ]
  },
  {
   "cell_type": "code",
   "execution_count": null,
   "id": "deb9c948",
   "metadata": {},
   "outputs": [],
   "source": [
    "sector_beta_dict={\"sector\":[],\n",
    "                 \"beta\":[]}\n",
    "\n",
    "mkt_excess = fff.loc[\"1991\":\"1993\",['Mkt-RF']]\n",
    "\n",
    "for sector in ind_vw.columns:\n",
    "    sector_beta_dict[\"sector\"].append(sector)\n",
    "    ind_vw_excess = ind_vw.loc[\"1991\":\"1993\", [sector]] - fff.loc[\"1991\":\"1993\", ['RF']].values\n",
    "    exp_var = mkt_excess.copy()\n",
    "    exp_var[\"Constant\"] = 1\n",
    "    lm = sm.OLS(ind_vw_excess, exp_var).fit()\n",
    "    sector_beta_dict[\"beta\"].append(lm.params[\"Mkt-RF\"])\n",
    "    \n",
    "\n",
    "pd.DataFrame(sector_beta_dict).set_index(\"sector\").sort_values(by=\"beta\", ascending=True)\n",
    "\n",
    "\n"
   ]
  },
  {
   "cell_type": "code",
   "execution_count": null,
   "id": "fc1f96c7",
   "metadata": {},
   "outputs": [],
   "source": [
    "ind_vw_excess = ind_vw.loc[\"2013\":\"2018\", ['Beer']] - fff.loc[\"2013\":\"2018\", ['RF']].values\n",
    "ind_vw_excess"
   ]
  },
  {
   "cell_type": "code",
   "execution_count": null,
   "id": "1c3b750d",
   "metadata": {},
   "outputs": [],
   "source": [
    "sector_value_dict={\"sector\":[],\n",
    "                 \"value_tilt\":[]}\n",
    "\n",
    "mkt_excess = fff.loc[\"1991\":\"2018\"]\n",
    "\n",
    "for sector in ind_vw.columns:\n",
    "    sector_value_dict[\"sector\"].append(sector)\n",
    "    ind_vw_excess = ind_vw.loc[\"1991\":\"2018\", [sector]] - fff.loc[\"1991\":\"2018\", ['RF']].values\n",
    "    exp_var = mkt_excess.copy()\n",
    "    exp_var[\"Constant\"] = 1\n",
    "    lm = sm.OLS(ind_vw_excess, exp_var).fit()\n",
    "    sector_value_dict[\"value_tilt\"].append(lm.params[\"HML\"])\n",
    "    \n",
    "\n",
    "pd.DataFrame(sector_value_dict).set_index(\"sector\").sort_values(by=\"value_tilt\", ascending=True)"
   ]
  },
  {
   "cell_type": "code",
   "execution_count": null,
   "id": "0b5d3879",
   "metadata": {},
   "outputs": [],
   "source": []
  },
  {
   "cell_type": "code",
   "execution_count": null,
   "id": "53e75a9b",
   "metadata": {},
   "outputs": [],
   "source": []
  }
 ],
 "metadata": {
  "kernelspec": {
   "display_name": "base",
   "language": "python",
   "name": "python3"
  },
  "language_info": {
   "codemirror_mode": {
    "name": "ipython",
    "version": 3
   },
   "file_extension": ".py",
   "mimetype": "text/x-python",
   "name": "python",
   "nbconvert_exporter": "python",
   "pygments_lexer": "ipython3",
   "version": "3.10.10"
  }
 },
 "nbformat": 4,
 "nbformat_minor": 5
}
